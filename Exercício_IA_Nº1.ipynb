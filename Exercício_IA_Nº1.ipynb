{
  "nbformat": 4,
  "nbformat_minor": 0,
  "metadata": {
    "colab": {
      "provenance": [],
      "authorship_tag": "ABX9TyPGCfl4KMk8sVHWhSWuBMpC",
      "include_colab_link": true
    },
    "kernelspec": {
      "name": "python3",
      "display_name": "Python 3"
    },
    "language_info": {
      "name": "python"
    }
  },
  "cells": [
    {
      "cell_type": "markdown",
      "metadata": {
        "id": "view-in-github",
        "colab_type": "text"
      },
      "source": [
        "<a href=\"https://colab.research.google.com/github/Felippebelisario2002/PDMV/blob/main/Exerc%C3%ADcio_IA_N%C2%BA1.ipynb\" target=\"_parent\"><img src=\"https://colab.research.google.com/assets/colab-badge.svg\" alt=\"Open In Colab\"/></a>"
      ]
    },
    {
      "cell_type": "code",
      "source": [
        "import pandas as pd\n",
        "import seaborn as sns\n",
        "\n",
        "df = sns.load_dataset('titanic')\n",
        "print(\"Shape do Titanic:\", df.shape)\n",
        "print(df.isnull().sum())\n",
        "\n",
        "df['age'] = df['age'].fillna(df['age'].median())\n",
        "df.fillna({'embarked': df['embarked'].mode()[0]}, inplace=True)\n",
        "df.drop(columns=['deck', 'cabin'], inplace=True, errors='ignore')\n",
        "\n",
        "print(df.isnull().sum())\n",
        "\n",
        "students_df = pd.read_csv('/content/Students_Grading_Dataset.csv')\n",
        "\n",
        "print(\"\\nShape do Students Dataset:\", students_df.shape)\n",
        "print(students_df.head())\n"
      ],
      "metadata": {
        "colab": {
          "base_uri": "https://localhost:8080/"
        },
        "id": "Zp0nzhmbvU9p",
        "outputId": "8f1a2822-21cc-45d9-d782-f8fc9f6d25fd"
      },
      "execution_count": null,
      "outputs": [
        {
          "output_type": "stream",
          "name": "stdout",
          "text": [
            "Shape do Titanic: (891, 15)\n",
            "survived         0\n",
            "pclass           0\n",
            "sex              0\n",
            "age            177\n",
            "sibsp            0\n",
            "parch            0\n",
            "fare             0\n",
            "embarked         2\n",
            "class            0\n",
            "who              0\n",
            "adult_male       0\n",
            "deck           688\n",
            "embark_town      2\n",
            "alive            0\n",
            "alone            0\n",
            "dtype: int64\n",
            "survived       0\n",
            "pclass         0\n",
            "sex            0\n",
            "age            0\n",
            "sibsp          0\n",
            "parch          0\n",
            "fare           0\n",
            "embarked       0\n",
            "class          0\n",
            "who            0\n",
            "adult_male     0\n",
            "embark_town    2\n",
            "alive          0\n",
            "alone          0\n",
            "dtype: int64\n",
            "\n",
            "Shape do Students Dataset: (5000, 23)\n",
            "  Student_ID First_Name Last_Name                    Email  Gender  Age  \\\n",
            "0      S1000       Omar  Williams  student0@university.com  Female   22   \n",
            "1      S1001      Maria     Brown  student1@university.com    Male   18   \n",
            "2      S1002      Ahmed     Jones  student2@university.com    Male   24   \n",
            "3      S1003       Omar  Williams  student3@university.com  Female   24   \n",
            "4      S1004       John     Smith  student4@university.com  Female   23   \n",
            "\n",
            "    Department  Attendance (%)  Midterm_Score  Final_Score  ...  \\\n",
            "0  Mathematics           97.36          40.61        59.61  ...   \n",
            "1     Business           97.71          57.27        74.00  ...   \n",
            "2  Engineering           99.52          41.84        63.85  ...   \n",
            "3  Engineering           90.38          45.65        44.44  ...   \n",
            "4           CS           59.41          53.13        61.77  ...   \n",
            "\n",
            "   Projects_Score  Total_Score  Grade  Study_Hours_per_Week  \\\n",
            "0           62.84        83.49      C                  10.3   \n",
            "1           98.23        92.29      F                  27.1   \n",
            "2           91.22        93.55      F                  12.4   \n",
            "3           55.48        51.03      A                  25.5   \n",
            "4           87.43        90.91      A                  13.3   \n",
            "\n",
            "   Extracurricular_Activities Internet_Access_at_Home  Parent_Education_Level  \\\n",
            "0                         Yes                      No                Master's   \n",
            "1                          No                      No             High School   \n",
            "2                         Yes                      No             High School   \n",
            "3                          No                     Yes             High School   \n",
            "4                         Yes                      No                Master's   \n",
            "\n",
            "  Family_Income_Level Stress_Level (1-10) Sleep_Hours_per_Night  \n",
            "0              Medium                   1                   5.9  \n",
            "1                 Low                   4                   4.3  \n",
            "2                 Low                   9                   6.1  \n",
            "3                 Low                   8                   4.9  \n",
            "4              Medium                   6                   4.5  \n",
            "\n",
            "[5 rows x 23 columns]\n"
          ]
        }
      ]
    },
    {
      "cell_type": "code",
      "source": [],
      "metadata": {
        "id": "55GseX-owHqK"
      },
      "execution_count": null,
      "outputs": []
    }
  ]
}